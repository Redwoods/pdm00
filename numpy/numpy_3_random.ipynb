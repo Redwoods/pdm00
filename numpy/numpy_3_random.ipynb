{
  "nbformat": 4,
  "nbformat_minor": 0,
  "metadata": {
    "colab": {
      "name": "numpy_3_random.ipynb",
      "provenance": [],
      "collapsed_sections": [],
      "include_colab_link": true
    },
    "kernelspec": {
      "name": "python3",
      "display_name": "Python 3"
    }
  },
  "cells": [
    {
      "cell_type": "markdown",
      "metadata": {
        "id": "view-in-github",
        "colab_type": "text"
      },
      "source": [
        "<a href=\"https://colab.research.google.com/github/Redwoods/pdm00/blob/master/numpy/numpy_3_random.ipynb\" target=\"_parent\"><img src=\"https://colab.research.google.com/assets/colab-badge.svg\" alt=\"Open In Colab\"/></a>"
      ]
    },
    {
      "cell_type": "markdown",
      "metadata": {
        "id": "_zrirXHfgmyY"
      },
      "source": [
        "# numpy\n",
        "## random 서브모듈\n",
        "> [데이터싸이언스 스쿨:난수발생](https://datascienceschool.net/01%20python/03.05%20%EB%82%9C%EC%88%98%20%EB%B0%9C%EC%83%9D%EA%B3%BC%20%EC%B9%B4%EC%9A%B4%ED%8C%85.html)"
      ]
    },
    {
      "cell_type": "code",
      "metadata": {
        "id": "kQbzzSMZG2PX"
      },
      "source": [
        "import numpy as np"
      ],
      "execution_count": 1,
      "outputs": []
    },
    {
      "cell_type": "markdown",
      "metadata": {
        "id": "1Ry0YHkNFis5"
      },
      "source": [
        "## 난수 생성\n",
        "> NumPy의 random 서브모듈은 난수를 생성하는 다양한 명령을 제공.\n",
        "\n",
        "- rand: 0부터 1사이의 균일 분포 (uniform distribution)\n",
        "- randn: 가우시안 표준 정규 분포 (normal distribution, Gaussian)\n",
        "- randint: 균일 분포의 정수 난수 (uniform int)\n",
        "\n",
        "> randn()은 평균 0, 표준편차 1 인 가우시안 정규분포를 생성."
      ]
    },
    {
      "cell_type": "markdown",
      "metadata": {
        "id": "CtO1VxvurziR"
      },
      "source": [
        "### rand: 0부터 1사이의 균일 분포 (uniform distribution)"
      ]
    },
    {
      "cell_type": "code",
      "metadata": {
        "id": "LA1oF6aEG7kJ",
        "colab": {
          "base_uri": "https://localhost:8080/"
        },
        "outputId": "d7c281bc-322e-4606-a7dc-7c292668ef7e"
      },
      "source": [
        "np.random.rand(5)"
      ],
      "execution_count": 2,
      "outputs": [
        {
          "output_type": "execute_result",
          "data": {
            "text/plain": [
              "array([0.54130223, 0.26473023, 0.41736555, 0.7341203 , 0.37680284])"
            ]
          },
          "metadata": {},
          "execution_count": 2
        }
      ]
    },
    {
      "cell_type": "code",
      "metadata": {
        "id": "H6f4ix3NHCyR",
        "colab": {
          "base_uri": "https://localhost:8080/"
        },
        "outputId": "24500ed3-6c6f-4955-ab3a-91d17fd84e98"
      },
      "source": [
        "np.random.rand(5)"
      ],
      "execution_count": 3,
      "outputs": [
        {
          "output_type": "execute_result",
          "data": {
            "text/plain": [
              "array([0.45588345, 0.8473806 , 0.19509123, 0.25320343, 0.45256511])"
            ]
          },
          "metadata": {},
          "execution_count": 3
        }
      ]
    },
    {
      "cell_type": "markdown",
      "metadata": {
        "id": "c88F6gf8r4K2"
      },
      "source": [
        "### randn: 가우시안 표준 정규 분포 (normal distribution, Gaussian)"
      ]
    },
    {
      "cell_type": "code",
      "metadata": {
        "id": "rtVfCL-uP2Tw",
        "colab": {
          "base_uri": "https://localhost:8080/"
        },
        "outputId": "31be83b1-f2a0-4a1b-e3d2-ccbd0268bf8d"
      },
      "source": [
        "np.random.randn(5)"
      ],
      "execution_count": 4,
      "outputs": [
        {
          "output_type": "execute_result",
          "data": {
            "text/plain": [
              "array([ 2.16017478, -0.52130578, -1.83200012,  1.237241  , -0.45602683])"
            ]
          },
          "metadata": {},
          "execution_count": 4
        }
      ]
    },
    {
      "cell_type": "code",
      "metadata": {
        "colab": {
          "base_uri": "https://localhost:8080/"
        },
        "id": "8oygXx4h1XWQ",
        "outputId": "2ba3e452-84fc-42c3-b85c-6c14538b9c1e"
      },
      "source": [
        "np.random.randn(5)"
      ],
      "execution_count": 5,
      "outputs": [
        {
          "output_type": "execute_result",
          "data": {
            "text/plain": [
              "array([ 0.33625764, -1.12743977,  0.37162136,  0.93238701,  0.44341991])"
            ]
          },
          "metadata": {},
          "execution_count": 5
        }
      ]
    },
    {
      "cell_type": "markdown",
      "metadata": {
        "id": "wsvTzTFSsBSJ"
      },
      "source": [
        "### randint: 균일 분포의 정수 난수 (uniform int)\n",
        "- numpy.random.randint(low, high=None, size=None, dtype='l')"
      ]
    },
    {
      "cell_type": "code",
      "metadata": {
        "id": "WSvAH8uVs2Vb",
        "colab": {
          "base_uri": "https://localhost:8080/"
        },
        "outputId": "b78a6b9f-7130-4306-ed2b-4f601ffa70a3"
      },
      "source": [
        "np.random.randint(5)"
      ],
      "execution_count": 10,
      "outputs": [
        {
          "output_type": "execute_result",
          "data": {
            "text/plain": [
              "0"
            ]
          },
          "metadata": {},
          "execution_count": 10
        }
      ]
    },
    {
      "cell_type": "code",
      "metadata": {
        "colab": {
          "base_uri": "https://localhost:8080/"
        },
        "id": "UgtTJk_s2BZc",
        "outputId": "ed17b9c0-37fd-4eb9-b862-05a04afa1f11"
      },
      "source": [
        "# die number\n",
        "np.random.randint(1,7)"
      ],
      "execution_count": 18,
      "outputs": [
        {
          "output_type": "execute_result",
          "data": {
            "text/plain": [
              "4"
            ]
          },
          "metadata": {},
          "execution_count": 18
        }
      ]
    },
    {
      "cell_type": "code",
      "metadata": {
        "id": "McWHW15uQDPr",
        "colab": {
          "base_uri": "https://localhost:8080/"
        },
        "outputId": "c75f32b3-abf8-4c28-9325-4dd69adcd1f4"
      },
      "source": [
        "np.random.randint(5,9) "
      ],
      "execution_count": 25,
      "outputs": [
        {
          "output_type": "execute_result",
          "data": {
            "text/plain": [
              "7"
            ]
          },
          "metadata": {},
          "execution_count": 25
        }
      ]
    },
    {
      "cell_type": "code",
      "metadata": {
        "id": "oBsWu9FmQQSC",
        "colab": {
          "base_uri": "https://localhost:8080/"
        },
        "outputId": "1dba877a-2f94-48f1-b527-2d47d75ab5c4"
      },
      "source": [
        "np.random.randint(0,10,5)"
      ],
      "execution_count": 26,
      "outputs": [
        {
          "output_type": "execute_result",
          "data": {
            "text/plain": [
              "array([8, 1, 8, 8, 3])"
            ]
          },
          "metadata": {},
          "execution_count": 26
        }
      ]
    },
    {
      "cell_type": "code",
      "metadata": {
        "id": "0kNuJxjaQYEu",
        "colab": {
          "base_uri": "https://localhost:8080/"
        },
        "outputId": "ff7ef168-9600-4735-be75-236f562fc714"
      },
      "source": [
        "np.random.randint(0,10,5)"
      ],
      "execution_count": 27,
      "outputs": [
        {
          "output_type": "execute_result",
          "data": {
            "text/plain": [
              "array([7, 6, 3, 6, 0])"
            ]
          },
          "metadata": {},
          "execution_count": 27
        }
      ]
    },
    {
      "cell_type": "markdown",
      "metadata": {
        "id": "K58DiNYUmANL"
      },
      "source": [
        "---"
      ]
    },
    {
      "cell_type": "markdown",
      "metadata": {
        "id": "xU5NWjQ3F_ld"
      },
      "source": [
        "## 난수 생성 seed 설정\n",
        "- numpy.random.seed(seed=None)\n",
        "- np.random.seed(number)"
      ]
    },
    {
      "cell_type": "code",
      "metadata": {
        "id": "AxUeYmQSQawG"
      },
      "source": [
        "np.random.seed()"
      ],
      "execution_count": 28,
      "outputs": []
    },
    {
      "cell_type": "code",
      "metadata": {
        "id": "C33YjKqvRJ33",
        "colab": {
          "base_uri": "https://localhost:8080/"
        },
        "outputId": "e3b0a29a-e824-4351-8bfe-7d0c4cba7161"
      },
      "source": [
        "np.random.rand(5)"
      ],
      "execution_count": 29,
      "outputs": [
        {
          "output_type": "execute_result",
          "data": {
            "text/plain": [
              "array([0.80767773, 0.75766489, 0.64962625, 0.02666501, 0.92937953])"
            ]
          },
          "metadata": {},
          "execution_count": 29
        }
      ]
    },
    {
      "cell_type": "code",
      "metadata": {
        "id": "Ne8rIyN9RO81",
        "colab": {
          "base_uri": "https://localhost:8080/"
        },
        "outputId": "93bc9633-eeab-4863-a9ff-3578e01bf9bb"
      },
      "source": [
        "np.random.rand(5)"
      ],
      "execution_count": 30,
      "outputs": [
        {
          "output_type": "execute_result",
          "data": {
            "text/plain": [
              "array([0.36066688, 0.13153166, 0.71798143, 0.64901472, 0.30018545])"
            ]
          },
          "metadata": {},
          "execution_count": 30
        }
      ]
    },
    {
      "cell_type": "markdown",
      "metadata": {
        "id": "wnQ4gFoltu81"
      },
      "source": [
        "### 동일한 무작위수 생성\n",
        "- seed를 고정하고 무작위수 생성"
      ]
    },
    {
      "cell_type": "code",
      "metadata": {
        "id": "LGPOJGfgRSWx"
      },
      "source": [
        "np.random.seed(1234)"
      ],
      "execution_count": 31,
      "outputs": []
    },
    {
      "cell_type": "code",
      "metadata": {
        "id": "t2PNRUpfRXZk",
        "colab": {
          "base_uri": "https://localhost:8080/"
        },
        "outputId": "f0c6d677-e631-450d-e75f-778d2bba8d84"
      },
      "source": [
        "np.random.rand(5)"
      ],
      "execution_count": 32,
      "outputs": [
        {
          "output_type": "execute_result",
          "data": {
            "text/plain": [
              "array([0.19151945, 0.62210877, 0.43772774, 0.78535858, 0.77997581])"
            ]
          },
          "metadata": {},
          "execution_count": 32
        }
      ]
    },
    {
      "cell_type": "code",
      "metadata": {
        "id": "x8yKednV8CZy",
        "colab": {
          "base_uri": "https://localhost:8080/"
        },
        "outputId": "2308d919-9c7d-469c-88e1-3236be2267e3"
      },
      "source": [
        "np.random.rand(5)"
      ],
      "execution_count": 33,
      "outputs": [
        {
          "output_type": "execute_result",
          "data": {
            "text/plain": [
              "array([0.27259261, 0.27646426, 0.80187218, 0.95813935, 0.87593263])"
            ]
          },
          "metadata": {},
          "execution_count": 33
        }
      ]
    },
    {
      "cell_type": "code",
      "metadata": {
        "id": "bo2A_ntYRcKw"
      },
      "source": [
        "np.random.seed(1234)"
      ],
      "execution_count": 34,
      "outputs": []
    },
    {
      "cell_type": "code",
      "metadata": {
        "id": "U5qXdwYQRYeT",
        "colab": {
          "base_uri": "https://localhost:8080/"
        },
        "outputId": "a3445b45-d8c0-42a5-a306-f24941c482e1"
      },
      "source": [
        "np.random.rand(5)"
      ],
      "execution_count": 35,
      "outputs": [
        {
          "output_type": "execute_result",
          "data": {
            "text/plain": [
              "array([0.19151945, 0.62210877, 0.43772774, 0.78535858, 0.77997581])"
            ]
          },
          "metadata": {},
          "execution_count": 35
        }
      ]
    },
    {
      "cell_type": "markdown",
      "metadata": {
        "id": "pwMXGAwmRhpW"
      },
      "source": [
        "### seed 고정 후에 randint(5)"
      ]
    },
    {
      "cell_type": "code",
      "metadata": {
        "id": "tqmTOMMVRhGW",
        "colab": {
          "base_uri": "https://localhost:8080/"
        },
        "outputId": "ce2f264e-74a5-4438-8e8e-d8d3d8bfa2d3"
      },
      "source": [
        "np.random.seed(5678)\n",
        "np.random.randint(1,10,5)"
      ],
      "execution_count": 36,
      "outputs": [
        {
          "output_type": "execute_result",
          "data": {
            "text/plain": [
              "array([5, 8, 3, 5, 4])"
            ]
          },
          "metadata": {},
          "execution_count": 36
        }
      ]
    },
    {
      "cell_type": "code",
      "metadata": {
        "id": "YxQYjcOLSA-Z",
        "colab": {
          "base_uri": "https://localhost:8080/"
        },
        "outputId": "bf52ddb4-569c-4f67-bd37-de5ff669cee5"
      },
      "source": [
        "np.random.randint(1,10,5)"
      ],
      "execution_count": 37,
      "outputs": [
        {
          "output_type": "execute_result",
          "data": {
            "text/plain": [
              "array([6, 3, 7, 4, 1])"
            ]
          },
          "metadata": {},
          "execution_count": 37
        }
      ]
    },
    {
      "cell_type": "code",
      "metadata": {
        "id": "aQYF5QpGSD6p",
        "colab": {
          "base_uri": "https://localhost:8080/"
        },
        "outputId": "9012205f-191e-4d3b-9ebe-8814880861fc"
      },
      "source": [
        "np.random.seed(5678)\n",
        "np.random.randint(1,10,5)"
      ],
      "execution_count": 38,
      "outputs": [
        {
          "output_type": "execute_result",
          "data": {
            "text/plain": [
              "array([5, 8, 3, 5, 4])"
            ]
          },
          "metadata": {},
          "execution_count": 38
        }
      ]
    },
    {
      "cell_type": "code",
      "metadata": {
        "id": "cfIhMEcVSGKa",
        "colab": {
          "base_uri": "https://localhost:8080/"
        },
        "outputId": "13858b62-227c-4985-a5b0-fa70ac244731"
      },
      "source": [
        "np.random.seed(5678)\n",
        "np.random.randint(1,10,5)"
      ],
      "execution_count": 39,
      "outputs": [
        {
          "output_type": "execute_result",
          "data": {
            "text/plain": [
              "array([5, 8, 3, 5, 4])"
            ]
          },
          "metadata": {},
          "execution_count": 39
        }
      ]
    },
    {
      "cell_type": "code",
      "metadata": {
        "id": "Ik9a-QkcfLwy",
        "colab": {
          "base_uri": "https://localhost:8080/"
        },
        "outputId": "13c8df51-cfa2-40c0-f650-1f3ed38fbabd"
      },
      "source": [
        "# seed 변경\n",
        "np.random.seed(0)\n",
        "np.random.randint(1,10,5)"
      ],
      "execution_count": 40,
      "outputs": [
        {
          "output_type": "execute_result",
          "data": {
            "text/plain": [
              "array([6, 1, 4, 4, 8])"
            ]
          },
          "metadata": {},
          "execution_count": 40
        }
      ]
    },
    {
      "cell_type": "markdown",
      "metadata": {
        "id": "Zg3g31drmDMI"
      },
      "source": [
        "---\n",
        "---"
      ]
    },
    {
      "cell_type": "markdown",
      "metadata": {
        "id": "YNVh_pbhfROq"
      },
      "source": [
        "## DIY: 도전 코딩 - numpy 정리 과제\n",
        "- 생성된 마구잡이수를 조사하고 사용하기 \n",
        "- 9월19일 자정 마감."
      ]
    },
    {
      "cell_type": "markdown",
      "metadata": {
        "id": "vxNHFDSIgMmC"
      },
      "source": [
        "### [도전 1.] 0부터 9까지의 마구잡이 정수를 1000개 만들고 각 수의 빈도를 구하시오. "
      ]
    },
    {
      "cell_type": "code",
      "metadata": {
        "id": "qkDfXH1xgjBz",
        "colab": {
          "base_uri": "https://localhost:8080/"
        },
        "outputId": "3c4ddceb-4678-4dcd-d9a6-1dab7b742e4f"
      },
      "source": [
        "# n1000=\n",
        "n1000 = np.random.randint(0,10,1000)\n",
        "n1000"
      ],
      "execution_count": 42,
      "outputs": [
        {
          "output_type": "execute_result",
          "data": {
            "text/plain": [
              "array([1, 4, 6, 0, 6, 6, 2, 8, 6, 6, 5, 2, 5, 0, 3, 9, 9, 7, 0, 4, 1, 3,\n",
              "       5, 7, 6, 2, 7, 3, 4, 9, 7, 0, 0, 1, 8, 3, 5, 0, 1, 1, 3, 7, 9, 3,\n",
              "       7, 0, 2, 4, 4, 6, 0, 1, 7, 6, 5, 5, 7, 3, 6, 8, 8, 2, 1, 0, 8, 7,\n",
              "       7, 0, 4, 8, 0, 4, 5, 7, 2, 4, 9, 7, 5, 0, 4, 9, 4, 0, 2, 5, 5, 3,\n",
              "       0, 0, 1, 9, 9, 2, 1, 0, 1, 6, 3, 4, 3, 6, 4, 2, 3, 6, 3, 3, 8, 1,\n",
              "       3, 3, 1, 5, 3, 6, 4, 8, 5, 7, 1, 8, 2, 0, 0, 4, 2, 1, 2, 2, 3, 4,\n",
              "       7, 5, 1, 3, 1, 0, 1, 4, 0, 2, 1, 3, 1, 4, 7, 5, 6, 9, 2, 5, 2, 2,\n",
              "       1, 3, 8, 3, 0, 7, 3, 8, 2, 4, 3, 1, 6, 5, 8, 4, 3, 6, 5, 3, 7, 8,\n",
              "       8, 3, 7, 8, 5, 7, 2, 7, 8, 0, 7, 4, 8, 4, 4, 0, 4, 8, 0, 0, 4, 7,\n",
              "       3, 7, 7, 2, 2, 1, 7, 0, 7, 5, 9, 7, 1, 1, 2, 4, 1, 4, 5, 8, 2, 1,\n",
              "       6, 3, 0, 3, 9, 5, 1, 3, 7, 1, 1, 7, 9, 4, 2, 0, 3, 2, 4, 0, 0, 9,\n",
              "       3, 8, 3, 0, 4, 4, 0, 2, 5, 5, 8, 2, 7, 3, 6, 1, 0, 2, 2, 5, 5, 1,\n",
              "       2, 8, 7, 3, 7, 3, 1, 0, 1, 0, 8, 8, 5, 3, 3, 1, 0, 6, 1, 6, 9, 5,\n",
              "       7, 0, 1, 4, 9, 5, 1, 6, 5, 4, 4, 4, 7, 2, 2, 6, 5, 3, 0, 8, 8, 1,\n",
              "       8, 7, 5, 7, 9, 4, 0, 7, 2, 3, 9, 5, 4, 0, 4, 5, 8, 1, 4, 8, 0, 1,\n",
              "       1, 8, 9, 4, 9, 0, 3, 0, 7, 0, 8, 1, 2, 8, 5, 8, 2, 1, 3, 5, 0, 2,\n",
              "       5, 8, 6, 2, 7, 7, 1, 8, 4, 9, 3, 3, 2, 9, 0, 4, 6, 4, 3, 2, 3, 1,\n",
              "       1, 2, 7, 2, 7, 0, 1, 8, 0, 5, 2, 8, 0, 4, 0, 3, 8, 1, 6, 4, 6, 9,\n",
              "       6, 4, 7, 2, 9, 8, 0, 8, 6, 2, 6, 9, 5, 3, 7, 8, 3, 8, 8, 9, 9, 4,\n",
              "       4, 1, 0, 7, 6, 2, 1, 0, 6, 1, 6, 7, 1, 5, 2, 0, 2, 6, 6, 3, 5, 4,\n",
              "       7, 3, 2, 6, 9, 1, 5, 1, 9, 3, 1, 0, 7, 3, 9, 6, 4, 4, 3, 5, 4, 4,\n",
              "       9, 0, 0, 9, 5, 0, 6, 3, 8, 9, 6, 2, 1, 7, 7, 6, 7, 5, 9, 8, 8, 1,\n",
              "       4, 6, 4, 2, 7, 8, 5, 7, 9, 9, 6, 9, 9, 3, 9, 3, 7, 2, 8, 1, 3, 2,\n",
              "       1, 7, 8, 7, 5, 7, 7, 1, 5, 6, 5, 8, 8, 1, 5, 2, 9, 5, 1, 8, 1, 7,\n",
              "       8, 5, 0, 1, 9, 5, 1, 4, 9, 8, 2, 8, 3, 3, 7, 4, 8, 3, 3, 1, 7, 5,\n",
              "       5, 7, 7, 3, 2, 1, 2, 9, 5, 8, 8, 8, 2, 2, 8, 4, 1, 1, 0, 2, 1, 7,\n",
              "       0, 2, 9, 3, 4, 9, 3, 0, 0, 6, 4, 3, 3, 1, 0, 7, 8, 6, 2, 8, 8, 9,\n",
              "       6, 4, 1, 8, 5, 4, 3, 5, 7, 6, 6, 9, 3, 3, 2, 7, 3, 9, 9, 5, 9, 8,\n",
              "       3, 8, 5, 9, 0, 7, 0, 1, 6, 6, 4, 5, 7, 6, 0, 1, 6, 6, 4, 2, 2, 4,\n",
              "       4, 3, 1, 0, 6, 6, 0, 9, 8, 9, 5, 2, 9, 8, 4, 4, 0, 2, 5, 7, 7, 1,\n",
              "       3, 2, 0, 3, 2, 2, 2, 3, 5, 1, 7, 5, 3, 9, 3, 0, 6, 3, 6, 9, 5, 1,\n",
              "       9, 3, 3, 9, 7, 8, 4, 7, 8, 9, 4, 1, 5, 0, 3, 6, 3, 0, 3, 6, 9, 5,\n",
              "       1, 7, 3, 4, 7, 0, 3, 5, 6, 6, 7, 4, 7, 2, 0, 1, 6, 5, 9, 4, 8, 7,\n",
              "       8, 6, 1, 4, 8, 5, 1, 6, 2, 7, 5, 7, 9, 6, 6, 3, 9, 9, 3, 4, 4, 1,\n",
              "       3, 9, 5, 1, 9, 7, 5, 4, 2, 0, 8, 7, 1, 1, 1, 9, 7, 4, 8, 6, 1, 2,\n",
              "       8, 4, 7, 9, 8, 8, 3, 2, 5, 6, 4, 5, 7, 9, 0, 3, 5, 5, 7, 8, 0, 2,\n",
              "       6, 5, 1, 5, 1, 9, 2, 3, 0, 3, 0, 1, 2, 2, 3, 4, 5, 8, 5, 1, 6, 1,\n",
              "       9, 6, 1, 5, 6, 2, 2, 9, 2, 8, 6, 3, 4, 1, 6, 6, 8, 8, 8, 5, 2, 2,\n",
              "       5, 9, 5, 4, 1, 1, 8, 8, 3, 0, 9, 2, 9, 3, 6, 4, 7, 5, 5, 3, 8, 7,\n",
              "       1, 7, 5, 4, 0, 5, 7, 8, 1, 6, 6, 9, 0, 2, 8, 6, 6, 3, 4, 4, 4, 1,\n",
              "       4, 3, 8, 9, 2, 1, 7, 8, 3, 3, 9, 0, 7, 7, 5, 3, 7, 8, 5, 5, 1, 7,\n",
              "       6, 1, 8, 1, 2, 0, 2, 4, 4, 8, 4, 7, 5, 2, 3, 0, 7, 9, 6, 9, 8, 1,\n",
              "       7, 6, 8, 4, 3, 5, 2, 0, 1, 4, 0, 5, 8, 3, 9, 1, 5, 9, 0, 8, 1, 6,\n",
              "       9, 7, 1, 4, 9, 8, 6, 7, 5, 7, 8, 5, 1, 4, 7, 8, 7, 7, 9, 9, 0, 6,\n",
              "       3, 7, 2, 6, 3, 5, 8, 9, 5, 0, 6, 9, 1, 4, 7, 5, 2, 6, 4, 7, 3, 6,\n",
              "       7, 0, 6, 4, 2, 3, 2, 0, 9, 5])"
            ]
          },
          "metadata": {},
          "execution_count": 42
        }
      ]
    },
    {
      "cell_type": "code",
      "metadata": {
        "id": "9_6nzbQD3FZi",
        "colab": {
          "base_uri": "https://localhost:8080/"
        },
        "outputId": "f034dcb0-f765-4344-c881-4c0418755518"
      },
      "source": [
        "np.unique(n1000)"
      ],
      "execution_count": 43,
      "outputs": [
        {
          "output_type": "execute_result",
          "data": {
            "text/plain": [
              "array([0, 1, 2, 3, 4, 5, 6, 7, 8, 9])"
            ]
          },
          "metadata": {},
          "execution_count": 43
        }
      ]
    },
    {
      "cell_type": "code",
      "metadata": {
        "id": "eiw9R1243Rzp"
      },
      "source": [
        "# 각 수의 빈도\n"
      ],
      "execution_count": null,
      "outputs": []
    },
    {
      "cell_type": "markdown",
      "metadata": {
        "id": "cIhlY6-GghMN"
      },
      "source": [
        "### [도전 2.] 0부터 9까지의 마구잡이 정수를 1000개 만들고 각 수가 처음 출현하는 인덱스를 구하시오.\n",
        "> 0이 처음 나타날 때의 인덱스, 1이 처음 나타날 때의 인덱스, ... "
      ]
    },
    {
      "cell_type": "code",
      "metadata": {
        "colab": {
          "base_uri": "https://localhost:8080/"
        },
        "id": "rZ9-xo5k49DW",
        "outputId": "c80b656b-2f33-441d-8f49-a7253c77c1ff"
      },
      "source": [
        "n1000[0],n1000[800]"
      ],
      "execution_count": 45,
      "outputs": [
        {
          "output_type": "execute_result",
          "data": {
            "text/plain": [
              "(1, 0)"
            ]
          },
          "metadata": {},
          "execution_count": 45
        }
      ]
    },
    {
      "cell_type": "code",
      "metadata": {
        "id": "oA1ec_RjgL3X"
      },
      "source": [
        "# 각 수가 처음 출현하는 인덱스\n"
      ],
      "execution_count": null,
      "outputs": []
    },
    {
      "cell_type": "code",
      "metadata": {
        "id": "yubibMMZ4AZS"
      },
      "source": [
        "# n1000[index]"
      ],
      "execution_count": null,
      "outputs": []
    },
    {
      "cell_type": "markdown",
      "metadata": {
        "id": "sadkRzWjgiTM"
      },
      "source": [
        "### [도전 3.] seed를 1234로 고정하고, 위의 도전1,2를 다시 해보시오. "
      ]
    },
    {
      "cell_type": "markdown",
      "metadata": {
        "id": "zAGojAainnox"
      },
      "source": [
        "### [도전 4.] 0부터 999까지의 마구잡이 정수로 구성되는 28X28 이차원배열을 만드시오.\n",
        "- 시드를 고정 : np.random.seed(1234)\n",
        "1. 각 행의 최대값, 최소갑을 구하시오.\n",
        "2. 배열 전체의 최대값, 최소값을 구하시오.\n",
        "3. 배열전체의 최대값, 최소값의 index를 각각 찾으시오."
      ]
    },
    {
      "cell_type": "markdown",
      "metadata": {
        "id": "VoSu8rNOnwPU"
      },
      "source": [
        "---\n",
        "---"
      ]
    },
    {
      "cell_type": "markdown",
      "metadata": {
        "id": "ozoCcRquhg4p"
      },
      "source": [
        "## python graphics\n",
        "- matplotlib\n",
        "> import matplotlib.pyplot as plt"
      ]
    },
    {
      "cell_type": "markdown",
      "metadata": {
        "id": "h6yEJiGJ4Lbk"
      },
      "source": [
        "### 무작위수 분포 그려보기"
      ]
    },
    {
      "cell_type": "code",
      "metadata": {
        "id": "ngcwuNlfhrIQ"
      },
      "source": [
        "import matplotlib.pyplot as plt"
      ],
      "execution_count": 51,
      "outputs": []
    },
    {
      "cell_type": "code",
      "metadata": {
        "id": "jr30IHxvJDuE",
        "colab": {
          "base_uri": "https://localhost:8080/",
          "height": 318
        },
        "outputId": "444107c2-5eba-4bb1-c4e2-f8d9aa781ceb"
      },
      "source": [
        "plt.hist(n1000,label=range(0,10), color='red') #, bins=100)\n",
        "# plt.show()"
      ],
      "execution_count": 56,
      "outputs": [
        {
          "output_type": "execute_result",
          "data": {
            "text/plain": [
              "(array([ 95., 130.,  83., 107.,  94.,  83.,  96.,  94., 104., 114.]),\n",
              " array([0. , 0.9, 1.8, 2.7, 3.6, 4.5, 5.4, 6.3, 7.2, 8.1, 9. ]),\n",
              " <a list of 10 Patch objects>)"
            ]
          },
          "metadata": {},
          "execution_count": 56
        },
        {
          "output_type": "display_data",
          "data": {
            "image/png": "[encoded data removed]",
            "text/plain": [
              "<Figure size 432x288 with 1 Axes>"
            ]
          },
          "metadata": {
            "needs_background": "light"
          }
        }
      ]
    },
    {
      "cell_type": "markdown",
      "metadata": {
        "id": "b-JcgSU-Ktyz"
      },
      "source": [
        "### [도전] 균일분포와 정규분포를 비교하는 그림을 그리시오."
      ]
    },
    {
      "cell_type": "code",
      "metadata": {
        "id": "k0XaT2f9JGZy",
        "colab": {
          "base_uri": "https://localhost:8080/",
          "height": 370
        },
        "outputId": "dde36674-7aa8-4b98-ed7c-6d7e58cb827b"
      },
      "source": [
        "plt.hist(np.random.rand(1000000))"
      ],
      "execution_count": 64,
      "outputs": [
        {
          "output_type": "execute_result",
          "data": {
            "text/plain": [
              "(array([ 99441., 100416., 100353.,  99862., 100381.,  99898.,  99859.,\n",
              "        100529.,  99373.,  99888.]),\n",
              " array([2.51678389e-08, 9.99999504e-02, 1.99999876e-01, 2.99999801e-01,\n",
              "        3.99999726e-01, 4.99999651e-01, 5.99999576e-01, 6.99999502e-01,\n",
              "        7.99999427e-01, 8.99999352e-01, 9.99999277e-01]),\n",
              " <a list of 10 Patch objects>)"
            ]
          },
          "metadata": {},
          "execution_count": 64
        },
        {
          "output_type": "display_data",
          "data": {
            "image/png": "[encoded data removed]",
            "text/plain": [
              "<Figure size 432x288 with 1 Axes>"
            ]
          },
          "metadata": {
            "needs_background": "light"
          }
        }
      ]
    },
    {
      "cell_type": "code",
      "metadata": {
        "id": "T8SCqKVeMhBF",
        "colab": {
          "base_uri": "https://localhost:8080/",
          "height": 652
        },
        "outputId": "13f8ba50-a60c-4937-a941-6529c4c91c3e"
      },
      "source": [
        "plt.hist(np.random.randn(1000000), bins=50)"
      ],
      "execution_count": 65,
      "outputs": [
        {
          "output_type": "execute_result",
          "data": {
            "text/plain": [
              "(array([2.0000e+00, 1.0000e+00, 5.0000e+00, 1.3000e+01, 1.9000e+01,\n",
              "        5.1000e+01, 1.0400e+02, 1.9400e+02, 3.5800e+02, 5.8400e+02,\n",
              "        1.0280e+03, 1.7780e+03, 2.7920e+03, 4.4540e+03, 6.9140e+03,\n",
              "        1.0109e+04, 1.4164e+04, 1.9519e+04, 2.5767e+04, 3.3272e+04,\n",
              "        4.0900e+04, 4.8872e+04, 5.7004e+04, 6.3545e+04, 6.9409e+04,\n",
              "        7.2255e+04, 7.3205e+04, 7.1786e+04, 6.7754e+04, 6.1963e+04,\n",
              "        5.5175e+04, 4.6849e+04, 3.8731e+04, 3.1168e+04, 2.4064e+04,\n",
              "        1.7949e+04, 1.3019e+04, 9.0890e+03, 6.1020e+03, 3.8850e+03,\n",
              "        2.5240e+03, 1.5130e+03, 9.0600e+02, 5.5800e+02, 3.0800e+02,\n",
              "        1.9000e+02, 7.6000e+01, 4.4000e+01, 2.0000e+01, 9.0000e+00]),\n",
              " array([-4.84604822, -4.66226037, -4.47847253, -4.29468468, -4.11089684,\n",
              "        -3.927109  , -3.74332115, -3.55953331, -3.37574546, -3.19195762,\n",
              "        -3.00816977, -2.82438193, -2.64059408, -2.45680624, -2.27301839,\n",
              "        -2.08923055, -1.9054427 , -1.72165486, -1.53786702, -1.35407917,\n",
              "        -1.17029133, -0.98650348, -0.80271564, -0.61892779, -0.43513995,\n",
              "        -0.2513521 , -0.06756426,  0.11622359,  0.30001143,  0.48379928,\n",
              "         0.66758712,  0.85137497,  1.03516281,  1.21895065,  1.4027385 ,\n",
              "         1.58652634,  1.77031419,  1.95410203,  2.13788988,  2.32167772,\n",
              "         2.50546557,  2.68925341,  2.87304126,  3.0568291 ,  3.24061695,\n",
              "         3.42440479,  3.60819264,  3.79198048,  3.97576832,  4.15955617,\n",
              "         4.34334401]),\n",
              " <a list of 50 Patch objects>)"
            ]
          },
          "metadata": {},
          "execution_count": 65
        },
        {
          "output_type": "display_data",
          "data": {
            "image/png": "[encoded data removed]",
            "text/plain": [
              "<Figure size 432x288 with 1 Axes>"
            ]
          },
          "metadata": {
            "needs_background": "light"
          }
        }
      ]
    },
    {
      "cell_type": "markdown",
      "metadata": {
        "id": "LYthn3089aqD"
      },
      "source": [
        "## 보충 코드"
      ]
    },
    {
      "cell_type": "code",
      "metadata": {
        "id": "BUkVDXTJMkwc",
        "colab": {
          "base_uri": "https://localhost:8080/"
        },
        "outputId": "7c0def81-2488-46cf-d80e-4e2414ea6f14"
      },
      "source": [
        "n1000 = np.random.randint(0,10,1000)\n",
        "n1000"
      ],
      "execution_count": 48,
      "outputs": [
        {
          "output_type": "execute_result",
          "data": {
            "text/plain": [
              "array([1, 3, 8, 2, 6, 0, 4, 4, 0, 3, 3, 6, 7, 6, 7, 1, 6, 8, 2, 5, 0, 2,\n",
              "       5, 9, 9, 9, 3, 0, 5, 2, 3, 3, 9, 0, 6, 6, 1, 6, 5, 6, 2, 0, 1, 8,\n",
              "       0, 4, 8, 2, 7, 8, 0, 6, 4, 0, 5, 7, 1, 2, 0, 8, 9, 5, 6, 6, 3, 2,\n",
              "       4, 1, 8, 6, 2, 9, 5, 1, 6, 9, 6, 0, 3, 9, 7, 9, 0, 6, 8, 2, 9, 8,\n",
              "       1, 3, 4, 4, 1, 1, 5, 9, 6, 8, 1, 9, 0, 0, 0, 2, 8, 1, 0, 8, 1, 6,\n",
              "       0, 8, 8, 0, 8, 9, 3, 3, 0, 7, 4, 2, 1, 6, 9, 2, 3, 4, 9, 9, 7, 2,\n",
              "       0, 1, 6, 8, 7, 9, 7, 1, 3, 2, 7, 2, 8, 7, 6, 3, 5, 0, 4, 5, 9, 6,\n",
              "       5, 1, 6, 5, 0, 8, 8, 3, 7, 5, 2, 9, 5, 0, 4, 9, 6, 2, 6, 1, 4, 7,\n",
              "       3, 7, 0, 5, 2, 8, 9, 5, 0, 6, 0, 1, 3, 4, 6, 0, 7, 4, 3, 3, 3, 2,\n",
              "       1, 3, 8, 1, 9, 8, 8, 4, 6, 3, 6, 9, 5, 8, 9, 0, 7, 6, 4, 8, 4, 5,\n",
              "       5, 6, 7, 3, 8, 9, 1, 1, 8, 1, 9, 4, 8, 9, 3, 1, 6, 4, 9, 9, 5, 0,\n",
              "       7, 6, 6, 7, 2, 1, 1, 5, 9, 2, 1, 9, 1, 4, 0, 3, 9, 6, 5, 5, 4, 7,\n",
              "       5, 1, 2, 2, 1, 1, 1, 9, 4, 8, 9, 2, 5, 7, 1, 1, 7, 0, 1, 6, 8, 6,\n",
              "       7, 7, 2, 5, 4, 2, 1, 9, 6, 3, 4, 5, 6, 3, 7, 8, 4, 1, 9, 4, 7, 3,\n",
              "       2, 7, 4, 4, 8, 0, 7, 7, 8, 5, 0, 0, 9, 8, 7, 8, 2, 4, 6, 0, 7, 8,\n",
              "       5, 4, 3, 9, 5, 8, 3, 7, 6, 3, 9, 1, 5, 2, 6, 8, 1, 9, 9, 9, 5, 7,\n",
              "       6, 4, 3, 8, 7, 9, 9, 4, 7, 7, 4, 6, 2, 7, 9, 3, 0, 7, 5, 7, 0, 3,\n",
              "       1, 0, 8, 2, 4, 3, 5, 9, 3, 4, 3, 3, 7, 6, 4, 8, 8, 1, 1, 5, 0, 9,\n",
              "       4, 6, 3, 2, 3, 0, 5, 0, 2, 2, 8, 8, 0, 8, 7, 1, 6, 6, 2, 2, 1, 3,\n",
              "       9, 5, 5, 2, 1, 6, 2, 9, 5, 1, 4, 3, 3, 1, 5, 4, 3, 9, 3, 7, 8, 4,\n",
              "       3, 2, 9, 9, 4, 9, 5, 3, 4, 4, 9, 1, 3, 1, 8, 2, 8, 1, 6, 9, 1, 1,\n",
              "       1, 4, 9, 4, 7, 0, 1, 7, 7, 6, 2, 9, 2, 2, 7, 1, 6, 7, 6, 2, 1, 8,\n",
              "       3, 0, 8, 9, 7, 9, 2, 3, 1, 9, 3, 5, 4, 3, 2, 6, 0, 9, 8, 0, 8, 4,\n",
              "       3, 6, 8, 4, 2, 4, 5, 7, 2, 3, 1, 9, 6, 1, 6, 5, 0, 7, 7, 5, 9, 1,\n",
              "       0, 3, 9, 8, 3, 2, 1, 1, 8, 6, 1, 0, 0, 3, 8, 6, 2, 8, 1, 8, 2, 9,\n",
              "       7, 8, 9, 0, 1, 1, 1, 2, 8, 7, 6, 1, 8, 1, 7, 4, 8, 8, 4, 0, 7, 9,\n",
              "       2, 0, 6, 8, 5, 7, 9, 3, 5, 0, 3, 0, 8, 4, 8, 3, 0, 9, 6, 3, 3, 0,\n",
              "       6, 5, 2, 5, 1, 1, 8, 9, 4, 0, 9, 8, 4, 7, 5, 7, 4, 3, 1, 9, 1, 8,\n",
              "       0, 6, 5, 6, 0, 4, 6, 4, 1, 0, 9, 4, 3, 9, 8, 3, 7, 7, 3, 2, 4, 7,\n",
              "       7, 9, 6, 9, 7, 9, 1, 0, 1, 9, 8, 9, 8, 1, 7, 4, 1, 8, 0, 2, 6, 4,\n",
              "       5, 6, 0, 6, 9, 4, 7, 1, 8, 5, 8, 5, 5, 0, 7, 8, 5, 0, 7, 8, 6, 0,\n",
              "       0, 9, 4, 5, 4, 1, 3, 4, 6, 9, 9, 0, 4, 1, 1, 1, 9, 6, 6, 1, 3, 3,\n",
              "       6, 4, 4, 1, 4, 3, 5, 4, 0, 1, 1, 1, 7, 8, 2, 5, 2, 3, 0, 7, 3, 9,\n",
              "       4, 1, 6, 4, 6, 1, 8, 1, 0, 2, 1, 8, 5, 9, 5, 8, 8, 1, 5, 0, 5, 0,\n",
              "       3, 6, 5, 0, 5, 4, 2, 8, 5, 3, 9, 7, 0, 0, 2, 5, 3, 3, 2, 1, 2, 2,\n",
              "       3, 2, 4, 5, 3, 1, 2, 3, 8, 9, 3, 1, 7, 1, 0, 1, 8, 2, 0, 6, 4, 9,\n",
              "       1, 7, 3, 1, 3, 9, 3, 2, 7, 3, 1, 3, 8, 3, 6, 4, 7, 5, 7, 2, 2, 1,\n",
              "       3, 9, 2, 5, 7, 0, 6, 6, 1, 0, 9, 6, 5, 7, 6, 6, 7, 1, 7, 7, 3, 9,\n",
              "       8, 7, 9, 7, 1, 6, 8, 0, 4, 3, 8, 6, 9, 9, 9, 6, 4, 4, 7, 0, 2, 7,\n",
              "       4, 3, 0, 3, 0, 5, 9, 1, 2, 1, 3, 4, 2, 9, 3, 9, 1, 1, 6, 4, 8, 3,\n",
              "       1, 0, 1, 7, 0, 8, 4, 9, 7, 9, 1, 9, 8, 8, 1, 4, 1, 1, 5, 0, 4, 8,\n",
              "       7, 4, 9, 5, 0, 2, 2, 1, 9, 1, 8, 3, 9, 3, 6, 9, 8, 4, 4, 5, 8, 4,\n",
              "       7, 8, 2, 4, 1, 5, 5, 1, 8, 8, 8, 0, 0, 5, 3, 9, 5, 4, 1, 1, 2, 9,\n",
              "       3, 5, 2, 3, 1, 9, 7, 9, 3, 4, 0, 1, 8, 1, 7, 5, 2, 4, 9, 1, 8, 3,\n",
              "       1, 1, 0, 2, 1, 0, 9, 6, 5, 6, 9, 6, 5, 8, 1, 7, 6, 3, 6, 4, 6, 6,\n",
              "       7, 0, 3, 2, 3, 7, 3, 3, 3, 7])"
            ]
          },
          "metadata": {},
          "execution_count": 48
        }
      ]
    },
    {
      "cell_type": "code",
      "metadata": {
        "id": "xza_yV8nMshU"
      },
      "source": [
        "value, count= np.unique(n1000, return_counts=True)"
      ],
      "execution_count": 49,
      "outputs": []
    },
    {
      "cell_type": "code",
      "metadata": {
        "id": "al1pM1aK9Vk7",
        "colab": {
          "base_uri": "https://localhost:8080/"
        },
        "outputId": "cd2a508e-bfd7-4cd6-a7e7-bc5092b2241d"
      },
      "source": [
        "value, count"
      ],
      "execution_count": 50,
      "outputs": [
        {
          "output_type": "execute_result",
          "data": {
            "text/plain": [
              "(array([0, 1, 2, 3, 4, 5, 6, 7, 8, 9]),\n",
              " array([ 95, 130,  83, 107,  94,  83,  96,  94, 104, 114]))"
            ]
          },
          "metadata": {},
          "execution_count": 50
        }
      ]
    },
    {
      "cell_type": "code",
      "metadata": {
        "id": "Lo89YhI96A6Z"
      },
      "source": [
        ""
      ],
      "execution_count": null,
      "outputs": []
    }
  ]
}